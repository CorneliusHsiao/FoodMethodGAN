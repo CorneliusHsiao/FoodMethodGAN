{
 "cells": [
  {
   "cell_type": "code",
   "execution_count": 1,
   "metadata": {},
   "outputs": [],
   "source": [
    "import numpy\n",
    "import json\n",
    "import os"
   ]
  },
  {
   "cell_type": "code",
   "execution_count": 5,
   "metadata": {},
   "outputs": [
    {
     "name": "stdout",
     "output_type": "stream",
     "text": [
      "402760\n",
      "{'id': '00003a70b1', 'images': [{'id': '3e233001e2.jpg', 'url': 'http://img.sndimg.com/food/image/upload/w_512,h_512,c_fit,fl_progressive,q_95/v1/img/recipes/47/91/49/picaYYmb9.jpg'}, {'id': '7f749987f9.jpg', 'url': 'http://img.sndimg.com/food/image/upload/w_512,h_512,c_fit,fl_progressive,q_95/v1/img/recipes/47/91/49/picpy37SW.jpg'}, {'id': 'aaf6b2dcd3.jpg', 'url': 'http://img.sndimg.com/food/image/upload/w_512,h_512,c_fit,fl_progressive,q_95/v1/img/recipes/47/91/49/picX9CNE2.jpg'}]}\n"
     ]
    }
   ],
   "source": [
    "layer2_path = \"/home/kaijie/Desktop/recipe1M_layers/layer2.json\"\n",
    "with open(layer2_path,'r') as f:\n",
    "    layer2_data = json.load(f)\n",
    "print(len(layer2_data))\n",
    "print(layer2_data[0])"
   ]
  },
  {
   "cell_type": "code",
   "execution_count": 6,
   "metadata": {},
   "outputs": [
    {
     "name": "stdout",
     "output_type": "stream",
     "text": [
      "1029720\n",
      "{'id': '000018c8a5', 'ingredients': ['penne', 'cheese sauce', 'cheddar cheese', 'gruyere cheese', 'dried chipotle powder', 'unsalted butter', 'all - purpose flour', 'milk', 'kosher salt', 'dried chipotle powder', 'garlic powder'], 'instructions': ['stir', 'heat', 'bake'], 'title': 'Worlds Best Mac and Cheese'}\n"
     ]
    }
   ],
   "source": [
    "layer1_path = \"/home/kaijie/Desktop/recipe1M_layers/layer1_v2.json\"\n",
    "with open(layer1_path,'r') as f:\n",
    "    layer1_data = json.load(f)\n",
    "print(len(layer1_data))\n",
    "print(layer1_data[0])"
   ]
  },
  {
   "cell_type": "code",
   "execution_count": 7,
   "metadata": {},
   "outputs": [
    {
     "name": "stdout",
     "output_type": "stream",
     "text": [
      "1029720\n"
     ]
    }
   ],
   "source": [
    "layer1_dict = {}\n",
    "for d in layer1_data:\n",
    "    if d['id'] in layer1_dict:\n",
    "        print(d['id'])\n",
    "    else:\n",
    "        layer1_dict[d['id']] = d\n",
    "print(len(layer1_dict))"
   ]
  },
  {
   "cell_type": "code",
   "execution_count": 8,
   "metadata": {},
   "outputs": [
    {
     "name": "stdout",
     "output_type": "stream",
     "text": [
      "402760\n",
      "{'id': '00003a70b1', 'ingredients': ['milk', 'water', 'butter', 'mashed potatoes', 'whole kernel corn', 'cheddar cheese', 'French - fried onions'], 'instructions': ['stir', 'heat', 'bake'], 'title': 'Crunchy Onion Potato Bake', 'images': ['3e233001e2.jpg', '7f749987f9.jpg', 'aaf6b2dcd3.jpg']}\n"
     ]
    }
   ],
   "source": [
    "all_data = []\n",
    "for d in layer2_data:\n",
    "    id_ = d['id']\n",
    "    images = []\n",
    "    for i in d['images']:\n",
    "        images.append(i['id'])\n",
    "    \n",
    "    new_d = layer1_dict[id_]\n",
    "    new_d['images'] = images\n",
    "    all_data.append(new_d)\n",
    "print(len(all_data))\n",
    "print(all_data[0])"
   ]
  },
  {
   "cell_type": "code",
   "execution_count": 9,
   "metadata": {},
   "outputs": [
    {
     "name": "stdout",
     "output_type": "stream",
     "text": [
      "12289\n"
     ]
    }
   ],
   "source": [
    "remove_list_path = \"/home/kaijie/Desktop/remove1M.txt\"\n",
    "with open(remove_list_path,'r') as f:\n",
    "    remove_list = f.readlines()\n",
    "print(len(remove_list))"
   ]
  },
  {
   "cell_type": "code",
   "execution_count": 10,
   "metadata": {},
   "outputs": [],
   "source": [
    "for d in all_data:\n",
    "    id_ = d['id']\n",
    "    if id_ in remove_list:\n",
    "        print(id_)"
   ]
  },
  {
   "cell_type": "code",
   "execution_count": null,
   "metadata": {},
   "outputs": [],
   "source": [
    "import io\n",
    "try:\n",
    "    to_unicode = unicode\n",
    "except NameError:\n",
    "    to_unicode = str\n",
    "    \n",
    "all_data_path = \"/home/kaijie/Desktop/recipe1M_layers/all_data.json\"\n",
    "with open(all_data_path,'wb') as f:\n",
    "    str_ = json.dumps(all_data,\n",
    "                      indent=4, sort_keys=True,\n",
    "                      separators=(',', ': '), ensure_ascii=False)\n",
    "    f.write(to_unicode(str_))"
   ]
  }
 ],
 "metadata": {
  "kernelspec": {
   "display_name": "Python 3",
   "language": "python",
   "name": "python3"
  },
  "language_info": {
   "codemirror_mode": {
    "name": "ipython",
    "version": 3
   },
   "file_extension": ".py",
   "mimetype": "text/x-python",
   "name": "python",
   "nbconvert_exporter": "python",
   "pygments_lexer": "ipython3",
   "version": "3.6.8"
  }
 },
 "nbformat": 4,
 "nbformat_minor": 2
}
